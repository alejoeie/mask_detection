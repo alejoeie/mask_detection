{
 "cells": [
  {
   "cell_type": "code",
   "execution_count": 13,
   "metadata": {},
   "outputs": [],
   "source": [
    "import cv2\n",
    "import numpy as np\n",
    "import matplotlib.pyplot as plt\n",
    "%matplotlib inline "
   ]
  },
  {
   "cell_type": "code",
   "execution_count": 12,
   "metadata": {},
   "outputs": [],
   "source": [
    "face_cascade = cv2.CascadeClassifier('haarcascade_frontalface_default.xml')\n",
    "eye_cascade = cv2.CascadeClassifier('haarcascade_eye.xml')\n",
    "body_cascade = cv2.CascadeClassifier('haarcascade_upperbody.xml')\n",
    "mouth_cascade = cv2.CascadeClassifier('haarcascade_mcs_mouth.xml')"
   ]
  },
  {
   "cell_type": "code",
   "execution_count": 11,
   "metadata": {},
   "outputs": [],
   "source": [
    "adj_thresh = 120"
   ]
  },
  {
   "cell_type": "code",
   "execution_count": 4,
   "metadata": {},
   "outputs": [],
   "source": [
    "#imprimir mensaje, colores, font size \n",
    "fuente_letra = cv2.FONT_HERSHEY_SIMPLEX\n",
    "org=(30,30)\n",
    "color_porta_mascarilla = (0,255,0)\n",
    "color_noporta_mascarilla = (0,0,255)\n",
    "mensaje_porta = \"Gracias por usar mascarilla\"\n",
    "mensaje_noporta = \"Por favor, coloca tu mascarilla\""
   ]
  },
  {
   "cell_type": "code",
   "execution_count": 14,
   "metadata": {},
   "outputs": [],
   "source": [
    "# #imprimir mensajes y capturar video\n",
    "\n",
    "cap = cv2.VideoCapture(0)\n",
    "\n",
    "\n",
    "while True:\n",
    "    \n",
    "    ret, frame = cap.read()\n",
    "    \n",
    "    \n",
    "#     #convertir a escala de grises \n",
    "    \n",
    "    gray_scale = cv2.cvtColor(frame,cv2.COLOR_BGR2GRAY)\n",
    "    \n",
    "#     #threshold\n",
    "    \n",
    "    (thresh, blanco_negro) = cv2.threshold(gray_scale,adj_thresh,255,cv2.THRESH_BINARY)\n",
    "    \n",
    "#     #captar cara\n",
    "    face = face_cascade.detectMultiScale(gray_scale,1.1,4)\n",
    "    \n",
    "#     #captar camara en blanco y negro\n",
    "    \n",
    "    face_bn = face_cascade.detectMultiScale(blanco_negro,1.1,4)\n",
    "    \n",
    "#     # Detecta cara \n",
    "    \n",
    "    if(len(face)==0 and len(face_bn)==0):\n",
    "        cv2.putText(frame,\"no se encontro rostro\",org,fuente_letra,fontScale=1,color=(0,0,255),thickness=2,lineType = cv2.LINE_AA)\n",
    "    elif(len(face)==0 and len(face_bn)==1):\n",
    "        cv2.putText(frame,mensaje_porta,org,fuente_letra,fontScale=1,color=(0,255,0),thickness=2,lineType=cv2.LINE_AA)\n",
    "        \n",
    "    else:\n",
    "        \n",
    "#         #dibuja rectangulo en cara\n",
    "        for (x,y,w,h) in face:\n",
    "            cv2.rectangle(frame,(x,y),(x+w,y+h),(255,255,255),2)\n",
    "            roi_gris = gray_scale[y:y+h,x:x+w]\n",
    "            roi_color = frame[y:y+h,x:x+w]\n",
    "            \n",
    "#             #detectar nuestros labios\n",
    "            lips_recs = mouth_cascade.detectMultiScale(gray_scale,1.5,5)\n",
    "            \n",
    "        if(len(lips_recs)==0):\n",
    "            cv2.putText(frame,mensaje_porta,org,fuente_letra,fontScale=1,color=(0,255,0),thickness=2,lineType=cv2.LINE_AA)\n",
    "        else:\n",
    "            for (lx,ly,lw,lh) in lips_recs:\n",
    "                cv2.putText(frame,mensaje_noporta,org,fuente_letra,fontScale=1,color=(0,0,255),thickness=2,lineType=cv2.LINE_AA)\n",
    "                \n",
    "                cv2.rectangle(frame,(lx,ly),(lx+lh,ly+lw),(255,255,255),3)\n",
    "                \n",
    "                break\n",
    "        cv2.imshow(\"Detector de mascarilla\",frame)\n",
    "        \n",
    "        k = cv2.waitKey(30) & 0xFF\n",
    "        \n",
    "        if k == 27:\n",
    "            break\n",
    "cap.release()\n",
    "cv2.destroyAllWindows()"
   ]
  },
  {
   "cell_type": "code",
   "execution_count": 17,
   "metadata": {},
   "outputs": [
    {
     "data": {
      "text/plain": [
       "0"
      ]
     },
     "execution_count": 17,
     "metadata": {},
     "output_type": "execute_result"
    }
   ],
   "source": [
    "len(face_bn)"
   ]
  }
 ],
 "metadata": {
  "kernelspec": {
   "display_name": "Python 3",
   "language": "python",
   "name": "python3"
  },
  "language_info": {
   "codemirror_mode": {
    "name": "ipython",
    "version": 3
   },
   "file_extension": ".py",
   "mimetype": "text/x-python",
   "name": "python",
   "nbconvert_exporter": "python",
   "pygments_lexer": "ipython3",
   "version": "3.8.3"
  }
 },
 "nbformat": 4,
 "nbformat_minor": 4
}
